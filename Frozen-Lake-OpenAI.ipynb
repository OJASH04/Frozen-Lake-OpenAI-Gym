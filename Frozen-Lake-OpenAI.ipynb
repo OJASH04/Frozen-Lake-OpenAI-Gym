{
 "cells": [
  {
   "cell_type": "markdown",
   "id": "spatial-square",
   "metadata": {},
   "source": [
    "## Frozen Lake Enviornment\n",
    "The enviornment we loaded above ```FrozenLake-v0``` is one of the simplest enviornments in Open AI Gym. The goal of the agent is to navigate a frozen lake and find the Goal without falling through the ice (render the enviornment above to see an example).\n",
    "\n",
    "There are:\n",
    "- 16 states (one for each square) \n",
    "- 4 possible actions (LEFT, RIGHT, DOWN, UP)\n",
    "- 4 different types of blocks (F: frozen, H: hole, S: start, G: goal)"
   ]
  },
  {
   "cell_type": "markdown",
   "id": "nonprofit-laundry",
   "metadata": {},
   "source": [
    "## Building the Q-Table\n",
    "The first thing we need to do is build an empty Q-Table that we can use to store and update our values."
   ]
  },
  {
   "cell_type": "code",
   "execution_count": 1,
   "id": "tutorial-facing",
   "metadata": {},
   "outputs": [],
   "source": [
    "import gym\n",
    "import numpy as np\n",
    "import time\n",
    "\n",
    "env = gym.make('FrozenLake-v0')\n",
    "STATES = env.observation_space.n\n",
    "ACTIONS = env.action_space.n"
   ]
  },
  {
   "cell_type": "code",
   "execution_count": 2,
   "id": "ordinary-camel",
   "metadata": {},
   "outputs": [
    {
     "data": {
      "text/plain": [
       "array([[0., 0., 0., 0.],\n",
       "       [0., 0., 0., 0.],\n",
       "       [0., 0., 0., 0.],\n",
       "       [0., 0., 0., 0.],\n",
       "       [0., 0., 0., 0.],\n",
       "       [0., 0., 0., 0.],\n",
       "       [0., 0., 0., 0.],\n",
       "       [0., 0., 0., 0.],\n",
       "       [0., 0., 0., 0.],\n",
       "       [0., 0., 0., 0.],\n",
       "       [0., 0., 0., 0.],\n",
       "       [0., 0., 0., 0.],\n",
       "       [0., 0., 0., 0.],\n",
       "       [0., 0., 0., 0.],\n",
       "       [0., 0., 0., 0.],\n",
       "       [0., 0., 0., 0.]])"
      ]
     },
     "execution_count": 2,
     "metadata": {},
     "output_type": "execute_result"
    }
   ],
   "source": [
    "Q = np.zeros((STATES, ACTIONS))  # create a matrix with all 0 values \n",
    "Q"
   ]
  },
  {
   "cell_type": "markdown",
   "id": "finite-software",
   "metadata": {},
   "source": [
    "### Constants"
   ]
  },
  {
   "cell_type": "code",
   "execution_count": 11,
   "id": "demographic-ladder",
   "metadata": {},
   "outputs": [],
   "source": [
    "EPISODES = 1000 # how many times to run the enviornment from the beginning\n",
    "MAX_STEPS = 100  # max number of steps allowed for each run of enviornment\n",
    "\n",
    "LEARNING_RATE = 0.81  # learning rate\n",
    "GAMMA = 0.96"
   ]
  },
  {
   "cell_type": "markdown",
   "id": "polar-learning",
   "metadata": {},
   "source": [
    "## Picking an Action\n",
    "Remember that we can pick an action using one of two methods:\n",
    "1. Randomly picking a valid action\n",
    "2. Using the current Q-Table to find the best action.\n",
    "\n",
    "Here we will define a new value $\\epsilon$ that will tell us the probabillity of selecting a random action. This value will start off very high and slowly decrease as the agent learns more about the enviornment."
   ]
  },
  {
   "cell_type": "code",
   "execution_count": 12,
   "id": "emotional-albuquerque",
   "metadata": {},
   "outputs": [],
   "source": [
    "RENDER = False # if you want to see training set to true\n",
    "\n",
    "epsilon = 0.9"
   ]
  },
  {
   "cell_type": "code",
   "execution_count": 13,
   "id": "earned-binding",
   "metadata": {},
   "outputs": [
    {
     "name": "stdout",
     "output_type": "stream",
     "text": [
      "[[1.97182075e-01 4.22460721e-02 5.22543537e-02 5.11629956e-02]\n",
      " [9.99740840e-03 1.16758038e-02 1.77752407e-02 3.75139507e-01]\n",
      " [1.66744926e-02 3.12530210e-01 1.46340829e-02 2.80455656e-02]\n",
      " [1.03401382e-02 9.56156831e-03 8.46929024e-03 1.50259413e-01]\n",
      " [1.40615384e-01 2.42576842e-02 2.60556412e-02 3.16843332e-02]\n",
      " [0.00000000e+00 0.00000000e+00 0.00000000e+00 0.00000000e+00]\n",
      " [2.15133170e-03 3.74909242e-08 1.29215101e-03 1.89508030e-03]\n",
      " [0.00000000e+00 0.00000000e+00 0.00000000e+00 0.00000000e+00]\n",
      " [1.19667193e-02 4.97847677e-02 1.13829179e-03 3.19338395e-01]\n",
      " [1.70348341e-02 6.29195439e-01 2.84030291e-03 1.34097336e-02]\n",
      " [7.65502610e-02 1.34903893e-02 5.32389846e-03 1.76052135e-02]\n",
      " [0.00000000e+00 0.00000000e+00 0.00000000e+00 0.00000000e+00]\n",
      " [0.00000000e+00 0.00000000e+00 0.00000000e+00 0.00000000e+00]\n",
      " [7.06055853e-02 1.07913188e-01 8.67544068e-01 3.05939519e-02]\n",
      " [2.78302573e-01 9.80846640e-01 2.39546539e-01 2.00003816e-01]\n",
      " [0.00000000e+00 0.00000000e+00 0.00000000e+00 0.00000000e+00]]\n",
      "Average reward: 0.115:\n"
     ]
    }
   ],
   "source": [
    "rewards = []\n",
    "for episode in range(EPISODES):\n",
    "\n",
    "  state = env.reset()\n",
    "  for _ in range(MAX_STEPS):\n",
    "    \n",
    "    if RENDER:\n",
    "      env.render()\n",
    "\n",
    "    if np.random.uniform(0, 1) < epsilon:\n",
    "      action = env.action_space.sample()  \n",
    "    else:\n",
    "      action = np.argmax(Q[state, :])\n",
    "\n",
    "    next_state, reward, done, _ = env.step(action)\n",
    "\n",
    "    Q[state, action] = Q[state, action] + LEARNING_RATE * (reward + GAMMA * np.max(Q[next_state, :]) - Q[state, action])\n",
    "\n",
    "    state = next_state\n",
    "\n",
    "    if done: \n",
    "      rewards.append(reward)\n",
    "      epsilon -= 0.001\n",
    "      break  # reached goal\n",
    "\n",
    "print(Q)\n",
    "print(f\"Average reward: {sum(rewards)/len(rewards)}:\")\n",
    "# and now we can see our Q values!"
   ]
  },
  {
   "cell_type": "code",
   "execution_count": 14,
   "id": "registered-admission",
   "metadata": {},
   "outputs": [
    {
     "data": {
      "image/png": "[encoded data removed]",
      "text/plain": [
       "<Figure size 432x288 with 1 Axes>"
      ]
     },
     "metadata": {
      "needs_background": "light"
     },
     "output_type": "display_data"
    }
   ],
   "source": [
    "# we can plot the training progress and see how the agent improved\n",
    "import matplotlib.pyplot as plt\n",
    "\n",
    "def get_average(values):\n",
    "  return sum(values)/len(values)\n",
    "\n",
    "avg_rewards = []\n",
    "for i in range(0, len(rewards), 100):\n",
    "  avg_rewards.append(get_average(rewards[i:i+100])) \n",
    "\n",
    "plt.plot(avg_rewards)\n",
    "plt.ylabel('average reward')\n",
    "plt.xlabel('episodes (100\\'s)')\n",
    "plt.show()"
   ]
  }
 ],
 "metadata": {
  "kernelspec": {
   "display_name": "Python 3",
   "language": "python",
   "name": "python3"
  },
  "language_info": {
   "codemirror_mode": {
    "name": "ipython",
    "version": 3
   },
   "file_extension": ".py",
   "mimetype": "text/x-python",
   "name": "python",
   "nbconvert_exporter": "python",
   "pygments_lexer": "ipython3",
   "version": "3.6.13"
  }
 },
 "nbformat": 4,
 "nbformat_minor": 5
}
